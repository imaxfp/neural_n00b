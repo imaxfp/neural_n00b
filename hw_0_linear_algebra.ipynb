{
 "cells": [
  {
   "cell_type": "markdown",
   "metadata": {},
   "source": [
    "# HW 1.\n",
    "Update your knowledge about linear basics with PyTorch"
   ]
  },
  {
   "cell_type": "markdown",
   "metadata": {},
   "source": [
    "## Task 1\n",
    "\n",
    "1. Review your understanding of Tensor:\n",
    "[TensorFlow Guide on Tensors](https://www.tensorflow.org/guide/tensor), \n",
    "[PyTorch Tensor](https://pytorch.org/docs/stable/tensors.html)\n",
    "2. Write implementation of the **matrix_vector_multiply**. Test **TestMatrixVectorMultiplication** should be passed"
   ]
  },
  {
   "cell_type": "code",
   "execution_count": 2,
   "metadata": {},
   "outputs": [],
   "source": [
    "import torch\n",
    "import unittest\n",
    "\n",
    "\n",
    "# Define a 3x3 matrix\n",
    "matrix_a = torch.tensor([\n",
    "    [1, 2, 3],\n",
    "    [4, 5, 6],\n",
    "    [7, 8, 9]\n",
    "], dtype=torch.float32)\n",
    "\n",
    "# Define a 3x1 vector\n",
    "vector_v = torch.tensor([\n",
    "    [1],\n",
    "    [2],\n",
    "    [3]\n",
    "], dtype=torch.float32)"
   ]
  },
  {
   "cell_type": "code",
   "execution_count": 85,
   "metadata": {
    "scrolled": true
   },
   "outputs": [],
   "source": [
    "def matrix_vector_multiply(m: torch.tensor, v: torch.tensor):\n",
    "    # Option 1: built in matrix multiplication method.\n",
    "    #return torch.matmul(m,v)\n",
    "    # Option 2: other built in matrix mult.\n",
    "    #return m @ v\n",
    "    # Option 3: hand coded. NxM matrix times Mx1 Vector compatible - and does assume that for inputs.\n",
    "    A = torch.tensor([[0]]*m.shape[0], dtype=torch.float32)\n",
    "    for i in range(m.shape[0]):\n",
    "     for j in range (m.shape[1]):\n",
    "        A[i]+=m[i,j]*v[j]\n",
    "    #print(A)\n",
    "    return A\n",
    "    #this was such a mistake of a code, please explain why I need to define A as a tensor using double list of list\n",
    "    #as a base for a god damn vector"
   ]
  },
  {
   "cell_type": "code",
   "execution_count": 83,
   "metadata": {
    "scrolled": false
   },
   "outputs": [
    {
     "name": "stderr",
     "output_type": "stream",
     "text": [
      "test_matrix_vector_multiply (__main__.TestMatrixVectorMultiplication.test_matrix_vector_multiply) ... ok\n",
      "\n",
      "----------------------------------------------------------------------\n",
      "Ran 1 test in 0.005s\n",
      "\n",
      "OK\n"
     ]
    },
    {
     "name": "stdout",
     "output_type": "stream",
     "text": [
      "tensor([[14.],\n",
      "        [32.],\n",
      "        [50.]])\n"
     ]
    }
   ],
   "source": [
    "expected_result = torch.tensor([\n",
    "            [14],\n",
    "            [32],\n",
    "            [50]\n",
    "        ], dtype=torch.float32)\n",
    "\n",
    "class TestMatrixVectorMultiplication(unittest.TestCase):\n",
    "    def test_matrix_vector_multiply(self):\n",
    "        result = matrix_vector_multiply(matrix_a, vector_v)\n",
    "        print(result)\n",
    "        self.assertTrue(torch.equal(result, expected_result))\n",
    "\n",
    "if __name__ == \"__main__\":\n",
    "    # TODO uncomment the test. All tesh should be passed\n",
    "    unittest.main(argv=[''], verbosity=2, exit=False)\n",
    "    pass"
   ]
  },
  {
   "cell_type": "markdown",
   "metadata": {},
   "source": [
    "## Task 2\n",
    "\n",
    "1. Read .txt files from ./data/image_matrices/. Files contains 2D matrices with image information.\n",
    "2. Use 'torch' for the processing 'np' arrays as a tensor.\n",
    "3. Show image in the jupiter notebook based on prepared tensor\n",
    "\n",
    "4. Explain why PyTorch by default has 4 channels for RGB (channel 1 = R, channel 2 = G, channel 3 = B) images instead of 3 channels: \n",
    "\n",
    "//TODO write your answer here \n",
    "\n"
   ]
  },
  {
   "cell_type": "code",
   "execution_count": null,
   "metadata": {},
   "outputs": [
    {
     "name": "stdout",
     "output_type": "stream",
     "text": [
      "Channel 0 shape =  (512, 868)\n",
      "Channel 1 shape =  (512, 868)\n",
      "Channel 2 shape =  (512, 868)\n",
      "Channel 3 shape =  (512, 868)\n"
     ]
    }
   ],
   "source": [
    "import torch\n",
    "from torchvision import transforms\n",
    "import numpy as np\n",
    "from PIL import Image\n",
    "import matplotlib.pyplot as plt\n",
    "\n",
    "secret_img_channels = []\n",
    "for i in range(4):\n",
    "    secret_img_channels.append(np.loadtxt(f'./data/img_matrices/matrix_2D_channel_{i}.txt', delimiter=','))\n",
    "\n",
    "for i in range(4):\n",
    "    print(f\"Channel {i} shape = \", secret_img_channels[i].shape)    \n",
    "\n",
    "\n",
    "#TODO use 'torch' for the processing 'np' arrays as a tensor. Please see:\n",
    "# https://pytorch.org/docs/stable/generated/torch.Tensor.numpy.html\n",
    "# https://www.geeksforgeeks.org/python-pytorch-stack-method/\n",
    "# https://pytorch.org/docs/stable/generated/torch.stack.html\n",
    "\n",
    "# TODO \n",
    "stacked_tensor = torch.stack((torch.Tensor(secret_img_channels[0]),torch.Tensor(secret_img_channels[1]),torch.Tensor(secret_img_channels[2])),dim=2)\n",
    "\n",
    "# Visualize the tensor\n",
    "# ???\n",
    "plt.imshow(stacked_tensor)\n",
    "plt.show()\n"
   ]
  },
  {
   "cell_type": "code",
   "execution_count": null,
   "metadata": {},
   "outputs": [],
   "source": []
  }
 ],
 "metadata": {
  "kernelspec": {
   "display_name": "Python 3 (ipykernel)",
   "language": "python",
   "name": "python3"
  },
  "language_info": {
   "codemirror_mode": {
    "name": "ipython",
    "version": 3
   },
   "file_extension": ".py",
   "mimetype": "text/x-python",
   "name": "python",
   "nbconvert_exporter": "python",
   "pygments_lexer": "ipython3",
   "version": "3.11.5"
  }
 },
 "nbformat": 4,
 "nbformat_minor": 2
}
